{
 "cells": [
  {
   "cell_type": "code",
   "execution_count": 1,
   "metadata": {},
   "outputs": [],
   "source": [
    "### HAND DIGIT RECOGNITION ###\n",
    "import cv2 as cv\n",
    "import mediapipe as mp"
   ]
  },
  {
   "cell_type": "code",
   "execution_count": 2,
   "metadata": {},
   "outputs": [],
   "source": [
    "mpHands = mp.solutions.hands\n",
    "hands = mpHands.Hands(max_num_hands=1)\n",
    "mpDraw = mp.solutions.drawing_utils"
   ]
  },
  {
   "cell_type": "code",
   "execution_count": 3,
   "metadata": {},
   "outputs": [],
   "source": [
    "TIPS = [4, 8, 12, 16, 20]\n",
    "\n",
    "def find_digit(p):\n",
    "    d = 0\n",
    "    TIPS = [4, 8, 12, 16, 20]\n",
    "    # THUMB POSITION DETECTION\n",
    "    if p[12].x > p[20].x:\n",
    "        if p[TIPS[0]].x > p[TIPS[0]-1].x:\n",
    "            d += 1\n",
    "    else:\n",
    "        if p[TIPS[0]].x < p[TIPS[0]-1].x:\n",
    "            d += 1\n",
    "    for tip in TIPS[1:]:\n",
    "        if p[tip].y < p[tip-2].y:\n",
    "            d += 1\n",
    "    if p[12].x > p[20].x:\n",
    "        if (sum([p[6].x, p[10].x, p[14].x, p[18].x]) / 4) > p[4].x:\n",
    "            d = 'ThumbsUp'\n",
    "    else:\n",
    "        if (sum([p[6].x, p[10].x, p[14].x, p[18].x]) / 4) < p[4].x:\n",
    "            d = 'ThumbsUp'\n",
    "    return d"
   ]
  },
  {
   "cell_type": "code",
   "execution_count": 4,
   "metadata": {},
   "outputs": [],
   "source": [
    "cap = cv.VideoCapture(0)\n",
    "cap.set(cv.CAP_PROP_FRAME_WIDTH, 1080)\n",
    "cap.set(cv.CAP_PROP_FRAME_HEIGHT, 720)\n",
    "while True:\n",
    "    ret, frame = cap.read()\n",
    "    if ret:\n",
    "        frame_rgb = cv.cvtColor(frame, cv.COLOR_BGR2RGB)\n",
    "        results = hands.process(frame_rgb)\n",
    "        if results.multi_hand_landmarks:\n",
    "            single_hand = results.multi_hand_landmarks[0]\n",
    "            keypoints = single_hand.landmark\n",
    "            digit = find_digit(keypoints)\n",
    "            mpDraw.draw_landmarks(\n",
    "                frame, \n",
    "                single_hand,\n",
    "                mpHands.HAND_CONNECTIONS\n",
    "            )\n",
    "            cv.putText(frame, 'Digit - {0}'.format(digit),\n",
    "                       (10, 70), cv.FONT_HERSHEY_COMPLEX, 2,\n",
    "                       [0, 255, 0], 4)\n",
    "        cv.imshow('HandDetection', frame)\n",
    "    else:\n",
    "        break\n",
    "    k = cv.waitKey(1)\n",
    "    if k == 113:\n",
    "        break\n",
    "cv.destroyAllWindows()"
   ]
  }
 ],
 "metadata": {
  "kernelspec": {
   "display_name": "Python 3",
   "language": "python",
   "name": "python3"
  },
  "language_info": {
   "codemirror_mode": {
    "name": "ipython",
    "version": 3
   },
   "file_extension": ".py",
   "mimetype": "text/x-python",
   "name": "python",
   "nbconvert_exporter": "python",
   "pygments_lexer": "ipython3",
   "version": "3.10.10"
  },
  "orig_nbformat": 4
 },
 "nbformat": 4,
 "nbformat_minor": 2
}
