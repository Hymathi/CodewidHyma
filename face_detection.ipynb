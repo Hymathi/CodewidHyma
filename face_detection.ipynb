{
 "cells": [
  {
   "cell_type": "code",
   "execution_count": null,
   "metadata": {},
   "outputs": [],
   "source": [
    "\"\"\" FACE DETECTION \"\"\"\n",
    "import cv2 as cv\n",
    "import matplotlib.pyplot as plt"
   ]
  },
  {
   "cell_type": "code",
   "execution_count": null,
   "metadata": {},
   "outputs": [],
   "source": [
    "img = cv.imread('Resources/Photos/group 1.jpg')\n",
    "img_gray = cv.cvtColor(img, cv.COLOR_BGR2GRAY)\n",
    "haar_cascade = cv.CascadeClassifier('Resources/Config/haar_face.xml')\n",
    "detected_faces = haar_cascade.detectMultiScale(\n",
    "    img_gray, scaleFactor=1.1, minNeighbors=1\n",
    ")\n",
    "for (x, y, w, h) in detected_faces:\n",
    "    cv.rectangle(img, (x, y), (x+w, y+h), (0, 255, 0), 2)\n",
    "plt.imshow(cv.cvtColor(img, cv.COLOR_BGR2RGB))"
   ]
  },
  {
   "cell_type": "code",
   "execution_count": 4,
   "metadata": {},
   "outputs": [],
   "source": [
    "### FACE DETECTION IN VIDEO ###\n",
    "\n",
    "vcap = cv.VideoCapture('Resources/Videos/Avengers.mp4')\n",
    "haar_cascade = cv.CascadeClassifier('Resources/Config/haar_face.xml')\n",
    "\n",
    "while True:\n",
    "    ret, frame = vcap.read()\n",
    "    frame = cv.resize(frame, (1080, 720))\n",
    "    if ret:\n",
    "        img_gray = cv.cvtColor(frame, cv.COLOR_BGR2GRAY)\n",
    "        detected_faces = haar_cascade.detectMultiScale(\n",
    "            img_gray, scaleFactor=1.1, minNeighbors=1\n",
    "        )\n",
    "        for (x, y, w, h) in detected_faces:\n",
    "            cv.rectangle(frame, (x, y), (x+w, y+h), (0, 255, 0), 2)\n",
    "        cv.imshow('Out', frame)\n",
    "        cv.waitKey(int(vcap.get(cv.CAP_PROP_FPS)))\n",
    "    else:\n",
    "        break\n",
    "vcap.release()\n",
    "cv.destroyAllWindows()"
   ]
  },
  {
   "cell_type": "code",
   "execution_count": null,
   "metadata": {},
   "outputs": [],
   "source": [
    "from mtcnn import MTCNN\n",
    "\n",
    "vcap = cv.VideoCapture('Resources/Videos/Avengers.mp4')\n",
    "model = MTCNN()\n",
    "while True:\n",
    "    ret, frame = vcap.read()\n",
    "    frame = cv.resize(frame, (640, 480))\n",
    "    if ret:\n",
    "        img_rgb = cv.cvtColor(frame, cv.COLOR_BGR2RGB)\n",
    "        detected_faces = model.detect_faces(img_rgb)\n",
    "        for face in detected_faces:\n",
    "            (x, y, w, h) = face['box']\n",
    "            cv.rectangle(frame, (x, y), (x+w, y+h), (0, 255, 0), 2)\n",
    "        cv.imshow('Out', frame)\n",
    "        cv.waitKey(1) \n",
    "    else:\n",
    "        break\n",
    "vcap.release()\n",
    "cv.destroyAllWindows()"
   ]
  }
 ],
 "metadata": {
  "kernelspec": {
   "display_name": "Python 3",
   "language": "python",
   "name": "python3"
  },
  "language_info": {
   "codemirror_mode": {
    "name": "ipython",
    "version": 3
   },
   "file_extension": ".py",
   "mimetype": "text/x-python",
   "name": "python",
   "nbconvert_exporter": "python",
   "pygments_lexer": "ipython3",
   "version": "3.10.10"
  },
  "orig_nbformat": 4
 },
 "nbformat": 4,
 "nbformat_minor": 2
}
