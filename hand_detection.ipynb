{
 "cells": [
  {
   "cell_type": "code",
   "execution_count": 1,
   "metadata": {},
   "outputs": [],
   "source": [
    "### HAND LANDMARK DETECTION ###\n",
    "import cv2 as cv\n",
    "import mediapipe as mp"
   ]
  },
  {
   "cell_type": "code",
   "execution_count": 2,
   "metadata": {},
   "outputs": [],
   "source": [
    "mpHands = mp.solutions.hands\n",
    "hands = mpHands.Hands()\n",
    "mpDraw = mp.solutions.drawing_utils"
   ]
  },
  {
   "cell_type": "code",
   "execution_count": 4,
   "metadata": {},
   "outputs": [],
   "source": [
    "cap = cv.VideoCapture(0)\n",
    "cap.set(cv.CAP_PROP_FRAME_WIDTH, 1080)\n",
    "cap.set(cv.CAP_PROP_FRAME_HEIGHT, 720)\n",
    "while True:\n",
    "    ret, frame = cap.read()\n",
    "    if ret:\n",
    "        frame_rgb = cv.cvtColor(frame, cv.COLOR_BGR2RGB)\n",
    "        results = hands.process(frame_rgb)\n",
    "        if results.multi_hand_landmarks:\n",
    "            for handlms in results.multi_hand_landmarks:\n",
    "                mpDraw.draw_landmarks(\n",
    "                frame, \n",
    "                handlms,\n",
    "                mpHands.HAND_CONNECTIONS\n",
    "            )\n",
    "        cv.imshow('HandDetection', frame)\n",
    "    else:\n",
    "        break\n",
    "    k = cv.waitKey(1)\n",
    "    if k == 113:\n",
    "        break\n",
    "cv.destroyAllWindows()"
   ]
  },
  {
   "cell_type": "code",
   "execution_count": 4,
   "metadata": {},
   "outputs": [
    {
     "ename": "TypeError",
     "evalue": "object of type 'NoneType' has no len()",
     "output_type": "error",
     "traceback": [
      "\u001b[1;31m---------------------------------------------------------------------------\u001b[0m",
      "\u001b[1;31mTypeError\u001b[0m                                 Traceback (most recent call last)",
      "Cell \u001b[1;32mIn[4], line 7\u001b[0m\n\u001b[0;32m      5\u001b[0m frame_rgb \u001b[39m=\u001b[39m cv\u001b[39m.\u001b[39mcvtColor(frame, cv\u001b[39m.\u001b[39mCOLOR_BGR2RGB)\n\u001b[0;32m      6\u001b[0m results \u001b[39m=\u001b[39m hands\u001b[39m.\u001b[39mprocess(frame_rgb)\n\u001b[1;32m----> 7\u001b[0m \u001b[39mprint\u001b[39m(\u001b[39m'\u001b[39m\u001b[39mNum Hands :\u001b[39m\u001b[39m'\u001b[39m, \u001b[39mlen\u001b[39;49m(results\u001b[39m.\u001b[39;49mmulti_hand_landmarks))\n\u001b[0;32m      8\u001b[0m \u001b[39mprint\u001b[39m(\u001b[39m'\u001b[39m\u001b[39mHand 1\u001b[39m\u001b[39m'\u001b[39m, results\u001b[39m.\u001b[39mmulti_hand_landmarks[\u001b[39m0\u001b[39m])\n\u001b[0;32m      9\u001b[0m \u001b[39mprint\u001b[39m(\u001b[39m'\u001b[39m\u001b[39mHand 1 Num Points\u001b[39m\u001b[39m'\u001b[39m, \u001b[39mlen\u001b[39m(results\u001b[39m.\u001b[39mmulti_hand_landmarks[\u001b[39m0\u001b[39m]\u001b[39m.\u001b[39mlandmark))\n",
      "\u001b[1;31mTypeError\u001b[0m: object of type 'NoneType' has no len()"
     ]
    }
   ],
   "source": [
    "mpHands = mp.solutions.hands\n",
    "hands = mpHands.Hands(static_image_mode=True)\n",
    "mpDraw = mp.solutions.drawing_utils\n",
    "frame = cv.imread('Resources/Photos/hand.jpeg')\n",
    "frame_rgb = cv.cvtColor(frame, cv.COLOR_BGR2RGB)\n",
    "results = hands.process(frame_rgb)\n",
    "print('Num Hands :', len(results.multi_hand_landmarks))\n",
    "print('Hand 1', results.multi_hand_landmarks[0])\n",
    "print('Hand 1 Num Points', len(results.multi_hand_landmarks[0].landmark))\n",
    "print('Hand 2', results.multi_hand_landmarks[1])\n",
    "print('Hand 2 Num Points', len(results.multi_hand_landmarks[1].landmark))\n",
    "# https://mediapipe.dev/images/mobile/hand_landmarks.png"
   ]
  }
 ],
 "metadata": {
  "kernelspec": {
   "display_name": "Python 3",
   "language": "python",
   "name": "python3"
  },
  "language_info": {
   "codemirror_mode": {
    "name": "ipython",
    "version": 3
   },
   "file_extension": ".py",
   "mimetype": "text/x-python",
   "name": "python",
   "nbconvert_exporter": "python",
   "pygments_lexer": "ipython3",
   "version": "3.10.10"
  },
  "orig_nbformat": 4
 },
 "nbformat": 4,
 "nbformat_minor": 2
}
