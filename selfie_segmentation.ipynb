{
 "cells": [
  {
   "cell_type": "code",
   "execution_count": 1,
   "metadata": {},
   "outputs": [],
   "source": [
    "### SELFIE SEGMENTATION ###\n",
    "import cv2 as cv\n",
    "import numpy as np\n",
    "import mediapipe as mp"
   ]
  },
  {
   "cell_type": "code",
   "execution_count": 3,
   "metadata": {},
   "outputs": [],
   "source": [
    "mpSelfieSeg = mp.solutions.selfie_segmentation\n",
    "SelfieSeg = mpSelfieSeg.SelfieSegmentation()"
   ]
  },
  {
   "cell_type": "code",
   "execution_count": 7,
   "metadata": {},
   "outputs": [
    {
     "ename": "ValueError",
     "evalue": "operands could not be broadcast together with shapes (600,800,3) (600,800,3) (720,1080,3) ",
     "output_type": "error",
     "traceback": [
      "\u001b[1;31m---------------------------------------------------------------------------\u001b[0m",
      "\u001b[1;31mValueError\u001b[0m                                Traceback (most recent call last)",
      "Cell \u001b[1;32mIn[7], line 13\u001b[0m\n\u001b[0;32m     11\u001b[0m     mask \u001b[39m=\u001b[39m results\u001b[39m.\u001b[39msegmentation_mask \u001b[39m>\u001b[39m \u001b[39m0.8\u001b[39m\n\u001b[0;32m     12\u001b[0m     mask_rgb \u001b[39m=\u001b[39m np\u001b[39m.\u001b[39mdstack((mask, mask, mask))\n\u001b[1;32m---> 13\u001b[0m     frame \u001b[39m=\u001b[39m np\u001b[39m.\u001b[39;49mwhere(mask_rgb, frame, bg_image)\n\u001b[0;32m     14\u001b[0m cv\u001b[39m.\u001b[39mimshow(\u001b[39m'\u001b[39m\u001b[39mOut\u001b[39m\u001b[39m'\u001b[39m, frame)\n\u001b[0;32m     15\u001b[0m k \u001b[39m=\u001b[39m cv\u001b[39m.\u001b[39mwaitKey(\u001b[39m1\u001b[39m)\n",
      "File \u001b[1;32m<__array_function__ internals>:200\u001b[0m, in \u001b[0;36mwhere\u001b[1;34m(*args, **kwargs)\u001b[0m\n",
      "\u001b[1;31mValueError\u001b[0m: operands could not be broadcast together with shapes (600,800,3) (600,800,3) (720,1080,3) "
     ]
    }
   ],
   "source": [
    "cap = cv.VideoCapture(0)\n",
    "cap.set(cv.CAP_PROP_FRAME_WIDTH, 1080)\n",
    "cap.set(cv.CAP_PROP_FRAME_HEIGHT, 720)\n",
    "bg_image = cv.imread('Resources/Photos/BG.jpg')\n",
    "while True:\n",
    "    ret, frame = cap.read()\n",
    "    bg_image = cv.resize(bg_image, frame.shape[:-1][::-1])\n",
    "    if ret:\n",
    "        frame_rgb = cv.cvtColor(frame, cv.COLOR_BGR2RGB)\n",
    "        results = SelfieSeg.process(frame_rgb)\n",
    "        mask = results.segmentation_mask > 0.8\n",
    "        mask_rgb = np.dstack((mask, mask, mask))\n",
    "        frame = np.where(mask_rgb, frame, bg_image)\n",
    "    cv.imshow('Out', frame)\n",
    "    k = cv.waitKey(1)\n",
    "    if k == 113:\n",
    "        break\n",
    "cv.destroyAllWindows()\n"
   ]
  }
 ],
 "metadata": {
  "kernelspec": {
   "display_name": "Python 3",
   "language": "python",
   "name": "python3"
  },
  "language_info": {
   "codemirror_mode": {
    "name": "ipython",
    "version": 3
   },
   "file_extension": ".py",
   "mimetype": "text/x-python",
   "name": "python",
   "nbconvert_exporter": "python",
   "pygments_lexer": "ipython3",
   "version": "3.10.10"
  },
  "orig_nbformat": 4
 },
 "nbformat": 4,
 "nbformat_minor": 2
}
